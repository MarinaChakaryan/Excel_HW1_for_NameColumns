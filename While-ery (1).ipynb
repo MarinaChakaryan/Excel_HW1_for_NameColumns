{
 "cells": [
  {
   "cell_type": "code",
   "execution_count": 86,
   "metadata": {},
   "outputs": [],
   "source": [
    "names=[\"John\", \"Jack\", \"James\",\"Jimmy\"]"
   ]
  },
  {
   "cell_type": "code",
   "execution_count": 2,
   "metadata": {},
   "outputs": [
    {
     "name": "stdout",
     "output_type": "stream",
     "text": [
      "John\n",
      "Jack\n",
      "James\n",
      "Jimmy\n"
     ]
    }
   ],
   "source": [
    "for i in names:\n",
    "    print(i)"
   ]
  },
  {
   "cell_type": "code",
   "execution_count": 5,
   "metadata": {},
   "outputs": [
    {
     "name": "stdout",
     "output_type": "stream",
     "text": [
      "John\n",
      "Jack\n",
      "James\n",
      "Jimmy\n"
     ]
    }
   ],
   "source": [
    "i=0\n",
    "while i<len(names):\n",
    "    print(names[i])\n",
    "    i=i+1"
   ]
  },
  {
   "cell_type": "code",
   "execution_count": 6,
   "metadata": {},
   "outputs": [
    {
     "data": {
      "text/plain": [
       "range(1, 10, 2)"
      ]
     },
     "execution_count": 6,
     "metadata": {},
     "output_type": "execute_result"
    }
   ],
   "source": [
    "range(1,10,2)"
   ]
  },
  {
   "cell_type": "code",
   "execution_count": 7,
   "metadata": {},
   "outputs": [
    {
     "name": "stdout",
     "output_type": "stream",
     "text": [
      "1\n",
      "3\n",
      "5\n",
      "7\n",
      "9\n"
     ]
    }
   ],
   "source": [
    "for i in range(1, 10, 2):\n",
    "    print(i)"
   ]
  },
  {
   "cell_type": "code",
   "execution_count": 9,
   "metadata": {},
   "outputs": [
    {
     "name": "stdout",
     "output_type": "stream",
     "text": [
      "1\n",
      "3\n",
      "5\n",
      "7\n",
      "9\n"
     ]
    }
   ],
   "source": [
    "i=1\n",
    "while i<10:\n",
    "    print (i)\n",
    "    i=i+2"
   ]
  },
  {
   "cell_type": "code",
   "execution_count": 10,
   "metadata": {},
   "outputs": [
    {
     "name": "stdout",
     "output_type": "stream",
     "text": [
      "Super  John\n",
      "Super  Jack\n",
      "Super  James\n",
      "Super  Jimmy\n"
     ]
    }
   ],
   "source": [
    "for i in names:\n",
    "    print(\"Super \",i)"
   ]
  },
  {
   "cell_type": "code",
   "execution_count": 11,
   "metadata": {},
   "outputs": [
    {
     "name": "stdout",
     "output_type": "stream",
     "text": [
      "Super  John\n",
      "Super  Jack\n",
      "Super  James\n",
      "Super  Jimmy\n"
     ]
    }
   ],
   "source": [
    "i=0\n",
    "while i<len(names):\n",
    "    print(\"Super \",names[i])\n",
    "    i=i+1"
   ]
  },
  {
   "cell_type": "code",
   "execution_count": 28,
   "metadata": {},
   "outputs": [
    {
     "name": "stdout",
     "output_type": "stream",
     "text": [
      "['JOHN', 'JACK', 'JAMES', 'JIMMY']\n"
     ]
    }
   ],
   "source": [
    "names_up=[]\n",
    "for i in names:\n",
    "    names_up.append(i.upper())\n",
    "print(names_up)"
   ]
  },
  {
   "cell_type": "code",
   "execution_count": 89,
   "metadata": {},
   "outputs": [
    {
     "name": "stdout",
     "output_type": "stream",
     "text": [
      "['JOHN', 'JACK', 'JAMES', 'JIMMY']\n"
     ]
    }
   ],
   "source": [
    "names_up=[]\n",
    "i=0\n",
    "while i<len(names):\n",
    "    names_up.append(names[i].upper())\n",
    "    i=i+1\n",
    "print (names_up)\n",
    "\n",
    "    "
   ]
  },
  {
   "cell_type": "code",
   "execution_count": 88,
   "metadata": {},
   "outputs": [
    {
     "name": "stdout",
     "output_type": "stream",
     "text": [
      "male\n",
      "male\n",
      "male\n",
      "male\n"
     ]
    }
   ],
   "source": [
    "for i in names:\n",
    "    if i[0]==\"J\":\n",
    "        print('male')"
   ]
  },
  {
   "cell_type": "code",
   "execution_count": 4,
   "metadata": {},
   "outputs": [
    {
     "name": "stdout",
     "output_type": "stream",
     "text": [
      "male\n",
      "male\n",
      "male\n",
      "male\n"
     ]
    }
   ],
   "source": [
    "i=0\n",
    "while i<len(names):\n",
    "    if names[0][0]==\"J\":\n",
    "        print('male')\n",
    "    i=i+1"
   ]
  },
  {
   "cell_type": "code",
   "execution_count": 9,
   "metadata": {},
   "outputs": [],
   "source": [
    "num_list=[0,10,255,22,10,56,78,987,15555]\n"
   ]
  },
  {
   "cell_type": "code",
   "execution_count": 10,
   "metadata": {},
   "outputs": [
    {
     "name": "stdout",
     "output_type": "stream",
     "text": [
      "0\n",
      "10\n",
      "510\n",
      "22\n",
      "10\n",
      "56\n",
      "78\n",
      "1974\n",
      "31110\n"
     ]
    }
   ],
   "source": [
    "for i in num_list:\n",
    "    if len(str(i))<3:\n",
    "        print(i)\n",
    "    else:\n",
    "        print(i*2)"
   ]
  },
  {
   "cell_type": "code",
   "execution_count": 12,
   "metadata": {},
   "outputs": [
    {
     "name": "stdout",
     "output_type": "stream",
     "text": [
      "0\n",
      "10\n",
      "510\n",
      "22\n",
      "10\n",
      "56\n",
      "78\n",
      "1974\n",
      "31110\n"
     ]
    }
   ],
   "source": [
    "i=0\n",
    "while i<len(num_list):\n",
    "    if len(str(num_list[i]))<3:\n",
    "        print(num_list[i])\n",
    "    else:\n",
    "        print(num_list[i]*2)\n",
    "    i=i+1\n",
    "    "
   ]
  },
  {
   "cell_type": "code",
   "execution_count": 97,
   "metadata": {},
   "outputs": [],
   "source": [
    "stock_list=[\"AAPL\",\"GOOGL\",\"IBM\",\"MSFT\",\"FB\"] #???????????????? to ask"
   ]
  },
  {
   "cell_type": "code",
   "execution_count": 99,
   "metadata": {},
   "outputs": [
    {
     "name": "stdout",
     "output_type": "stream",
     "text": [
      "[]\n"
     ]
    }
   ],
   "source": [
    "i=len(stock_list)\n",
    "while i>0:\n",
    "    stock_list.pop()\n",
    "    i=i+1\n",
    "print(stock_list)\n",
    "\n",
    "\n",
    "    "
   ]
  },
  {
   "cell_type": "code",
   "execution_count": 81,
   "metadata": {},
   "outputs": [
    {
     "name": "stdout",
     "output_type": "stream",
     "text": [
      "[]\n"
     ]
    }
   ],
   "source": [
    "for i in stock_list:   #runned for several times\n",
    "    stock_list.pop()\n",
    "print (stock_list)"
   ]
  },
  {
   "cell_type": "code",
   "execution_count": 102,
   "metadata": {},
   "outputs": [],
   "source": [
    "name_list = [\"Jack\",\"James\",\"Alice\",\n",
    "            \"Jimmy\",\"John\",\"Andrea\",\n",
    "            \"Joshua\",\"Jonathan\",\"Anastasia\"]\n"
   ]
  },
  {
   "cell_type": "code",
   "execution_count": 104,
   "metadata": {},
   "outputs": [
    {
     "name": "stdout",
     "output_type": "stream",
     "text": [
      "Alice\n",
      "Andrea\n",
      "Anastasia\n"
     ]
    }
   ],
   "source": [
    "for i in  range(len(name_list)):\n",
    "    if i%3==2:\n",
    "        print(name_list[i])"
   ]
  },
  {
   "cell_type": "code",
   "execution_count": 106,
   "metadata": {},
   "outputs": [
    {
     "name": "stdout",
     "output_type": "stream",
     "text": [
      "Alice\n",
      "Andrea\n",
      "Anastasia\n"
     ]
    }
   ],
   "source": [
    "i=2\n",
    "while i<len(name_list):\n",
    "    print(name_list[i])\n",
    "    i=i+3"
   ]
  },
  {
   "cell_type": "code",
   "execution_count": 107,
   "metadata": {},
   "outputs": [
    {
     "name": "stdout",
     "output_type": "stream",
     "text": [
      "Alice\n",
      "Andrea\n",
      "Anastasia\n"
     ]
    }
   ],
   "source": [
    "i=2\n",
    "while i<len(name_list):\n",
    "    if i%3==2:\n",
    "        print(name_list[i])\n",
    "    i=i+1"
   ]
  },
  {
   "cell_type": "code",
   "execution_count": 108,
   "metadata": {},
   "outputs": [],
   "source": [
    "digits=[ \"1\",\"12\",\"123\" ]"
   ]
  },
  {
   "cell_type": "code",
   "execution_count": 109,
   "metadata": {},
   "outputs": [
    {
     "data": {
      "text/plain": [
       "(['1'], ['12'], ['123'])"
      ]
     },
     "execution_count": 109,
     "metadata": {},
     "output_type": "execute_result"
    }
   ],
   "source": [
    "one_digit=[]\n",
    "two_digit=[]\n",
    "three_digit=[]\n",
    "for i in digits:\n",
    "        if (len(i))==1:\n",
    "            one_digit.append(i)\n",
    "        elif (len(i))==2:\n",
    "            two_digit.append(i)\n",
    "        else:\n",
    "            three_digit.append(i)\n",
    "one_digit,two_digit,three_digit"
   ]
  },
  {
   "cell_type": "code",
   "execution_count": 119,
   "metadata": {},
   "outputs": [
    {
     "name": "stdout",
     "output_type": "stream",
     "text": [
      "['1']\n",
      "['12']\n",
      "['123']\n"
     ]
    }
   ],
   "source": [
    "one_digit=[]\n",
    "two_digit=[]\n",
    "three_digit=[]\n",
    "\n",
    "i=0\n",
    "while i<len(digits):\n",
    "    if (len(digits[i]))==1:\n",
    "        one_digit.append(digits[i])\n",
    "        print(one_digit)\n",
    "    elif (len(digits[i]))==2:\n",
    "        two_digit.append(digits[i])\n",
    "        print(two_digit)\n",
    "    else:\n",
    "        three_digit.append(digits[i])\n",
    "        print(three_digit)\n",
    "        \n",
    "    \n",
    "    \n",
    "    i=i+1\n",
    "    "
   ]
  },
  {
   "cell_type": "code",
   "execution_count": null,
   "metadata": {},
   "outputs": [],
   "source": []
  }
 ],
 "metadata": {
  "kernelspec": {
   "display_name": "Python 3",
   "language": "python",
   "name": "python3"
  },
  "language_info": {
   "codemirror_mode": {
    "name": "ipython",
    "version": 3
   },
   "file_extension": ".py",
   "mimetype": "text/x-python",
   "name": "python",
   "nbconvert_exporter": "python",
   "pygments_lexer": "ipython3",
   "version": "3.6.5"
  }
 },
 "nbformat": 4,
 "nbformat_minor": 2
}
